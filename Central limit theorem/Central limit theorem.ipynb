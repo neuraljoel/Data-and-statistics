{
 "cells": [
  {
   "cell_type": "markdown",
   "id": "6c22af93",
   "metadata": {},
   "source": [
    "# Central limit theorem"
   ]
  },
  {
   "cell_type": "markdown",
   "id": "957a6aa5",
   "metadata": {},
   "source": [
    "## Formula"
   ]
  },
  {
   "cell_type": "markdown",
   "id": "5c296dea",
   "metadata": {},
   "source": [
    "* The central limit theorem (CLT) suggests that when calculating sample means from some probability distribution, the sample means are approximately normally distributed."
   ]
  },
  {
   "cell_type": "markdown",
   "id": "0f888b05",
   "metadata": {},
   "source": [
    " * Suppose we have a $k$ amount of samples, represented by a sequence of independent and identically (iid) distributed random variables $ X_1, X_2, ..., X_n $, each with mean $μ$ and standard deviation $σ$.\n",
    "\n",
    "* According to the CLT, as the sample size $n$ and/or the amount of samples $k$ increases, the distribution of sample means $ \\bar{X} $ approaches a normal distribution. Thus, for a large enough sample size $ \\bar{X} \\sim N(\\mu, \\frac{\\sigma^2}{n}) $."
   ]
  },
  {
   "cell_type": "markdown",
   "id": "d3fa6e55",
   "metadata": {},
   "source": [
    "* In words, the sampling distribution $\\bar{X}$ follows a normal distribution with mean $μ$ and standard deviation $\\frac{\\sigma^2}{n}$, regardless of the underlying distribution of the $X_i$ variables."
   ]
  },
  {
   "cell_type": "markdown",
   "id": "8f9c55a7",
   "metadata": {},
   "source": [
    "## Simulation"
   ]
  },
  {
   "cell_type": "code",
   "execution_count": 1,
   "id": "864d59b3",
   "metadata": {},
   "outputs": [],
   "source": [
    "import numpy as np\n",
    "import matplotlib.pyplot as plt\n",
    "from scipy import stats"
   ]
  },
  {
   "cell_type": "code",
   "execution_count": 2,
   "id": "fdde6dd7",
   "metadata": {},
   "outputs": [
    {
     "data": {
      "image/png": "[encoded data removed]",
      "text/plain": [
       "<Figure size 640x480 with 1 Axes>"
      ]
     },
     "metadata": {},
     "output_type": "display_data"
    }
   ],
   "source": [
    "# Let's draw a sample from the exponential function\n",
    "numbers = np.random.exponential(1, 10000)\n",
    "  \n",
    "count, bins, ignored = plt.hist(numbers, 20, density = True)\n",
    "plt.show()"
   ]
  },
  {
   "cell_type": "code",
   "execution_count": 3,
   "id": "c77a3a4d",
   "metadata": {},
   "outputs": [],
   "source": [
    "# Now, let's repeatedly draw samples of size n, and calculate their means. The results are stored in a list.\n",
    "sample_means = []\n",
    "sample_size = 100\n",
    "\n",
    "for i in range(10000):\n",
    "    sample = np.random.exponential(1, sample_size)\n",
    "    sample_mean = np.mean(sample)\n",
    "    sample_means.append(sample_mean)"
   ]
  },
  {
   "cell_type": "code",
   "execution_count": 4,
   "id": "540d8dcd",
   "metadata": {},
   "outputs": [
    {
     "data": {
      "image/png": "[encoded data removed]",
      "text/plain": [
       "<Figure size 640x480 with 1 Axes>"
      ]
     },
     "metadata": {},
     "output_type": "display_data"
    }
   ],
   "source": [
    "count, bins, ignored = plt.hist(sample_means, 30, density = True)\n",
    "plt.show()"
   ]
  },
  {
   "cell_type": "markdown",
   "id": "9b27b206",
   "metadata": {},
   "source": [
    "* The sample means are approximately normally distributed."
   ]
  },
  {
   "cell_type": "markdown",
   "id": "012b4626",
   "metadata": {},
   "source": [
    "## The mean $\\mu$ and variance $\\sigma^2$ of the exponential distribution vs the sampling distribution"
   ]
  },
  {
   "cell_type": "code",
   "execution_count": 5,
   "id": "aa27ce69",
   "metadata": {},
   "outputs": [
    {
     "name": "stdout",
     "output_type": "stream",
     "text": [
      "Mean of the original distribution: 0.985\n",
      "Variance of the original distribution: 0.01\n"
     ]
    }
   ],
   "source": [
    "# What we can expected based on the CLT\n",
    "print(\"Mean of the original distribution:\", round(np.mean(numbers),3))\n",
    "print(\"Variance of the original distribution:\", round(np.var(numbers)/sample_size,3))"
   ]
  },
  {
   "cell_type": "code",
   "execution_count": 6,
   "id": "0317162d",
   "metadata": {},
   "outputs": [
    {
     "name": "stdout",
     "output_type": "stream",
     "text": [
      "Actual mean of the sampling distribution: 0.999\n",
      "Actual standard deviation of the sampling distribution: 0.01\n"
     ]
    }
   ],
   "source": [
    "# What is actually obtained\n",
    "print(\"Actual mean of the sampling distribution:\", round(np.mean(sample_means), 3))\n",
    "print(\"Actual standard deviation of the sampling distribution:\", round(np.var(sample_means),3))"
   ]
  },
  {
   "cell_type": "markdown",
   "id": "7850e33e",
   "metadata": {},
   "source": [
    "* The mean and variance of the sampling distribution are very close to what the CLT suggests."
   ]
  }
 ],
 "metadata": {
  "kernelspec": {
   "display_name": "Python 3.9 Tensorflow",
   "language": "python",
   "name": "tensorflow"
  },
  "language_info": {
   "codemirror_mode": {
    "name": "ipython",
    "version": 3
   },
   "file_extension": ".py",
   "mimetype": "text/x-python",
   "name": "python",
   "nbconvert_exporter": "python",
   "pygments_lexer": "ipython3",
   "version": "3.9.13"
  }
 },
 "nbformat": 4,
 "nbformat_minor": 5
}
